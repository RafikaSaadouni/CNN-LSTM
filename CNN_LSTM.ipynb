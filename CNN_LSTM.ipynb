{
  "cells": [
    {
      "cell_type": "markdown",
      "metadata": {
        "id": "view-in-github",
        "colab_type": "text"
      },
      "source": [
        "<a href=\"https://colab.research.google.com/github/RafikaSaadouni/CNN-LSTM/blob/main/CNN_LSTM.ipynb\" target=\"_parent\"><img src=\"https://colab.research.google.com/assets/colab-badge.svg\" alt=\"Open In Colab\"/></a>"
      ]
    },
    {
      "cell_type": "code",
      "execution_count": null,
      "metadata": {
        "colab": {
          "background_save": true
        },
        "id": "U-wip70MyPDn"
      },
      "outputs": [],
      "source": [
        ""
      ]
    },
    {
      "cell_type": "markdown",
      "source": [
        "# Nouvelle section"
      ],
      "metadata": {
        "id": "nTCj8v3g8led"
      }
    },
    {
      "cell_type": "markdown",
      "source": [
        ""
      ],
      "metadata": {
        "id": "aPMzDga59HGM"
      }
    },
    {
      "cell_type": "code",
      "source": [
        "from google.colab import drive\n"
      ],
      "metadata": {
        "id": "8fPazCv-9KRz"
      },
      "execution_count": null,
      "outputs": []
    },
    {
      "cell_type": "code",
      "source": [
        "drive.mount('/content/drive')"
      ],
      "metadata": {
        "colab": {
          "base_uri": "https://localhost:8080/"
        },
        "id": "xf_-PtBSI7Sq",
        "outputId": "0dbeb9d1-8a16-4e68-fa52-5bbd9451ad6b"
      },
      "execution_count": null,
      "outputs": [
        {
          "output_type": "stream",
          "name": "stdout",
          "text": [
            "Drive already mounted at /content/drive; to attempt to forcibly remount, call drive.mount(\"/content/drive\", force_remount=True).\n"
          ]
        }
      ]
    },
    {
      "cell_type": "code",
      "source": [
        "import pandas as pd\n"
      ],
      "metadata": {
        "id": "kAhJkdl4XObE"
      },
      "execution_count": null,
      "outputs": []
    },
    {
      "cell_type": "code",
      "source": [
        "data=pd.read_csv('/content/drive/MyDrive/data/KDDTest-21.txt')"
      ],
      "metadata": {
        "id": "IUKkAoItXZdC"
      },
      "execution_count": null,
      "outputs": []
    },
    {
      "cell_type": "code",
      "source": [
        "data.head\n"
      ],
      "metadata": {
        "colab": {
          "base_uri": "https://localhost:8080/"
        },
        "id": "_kmyaTkxYBLA",
        "outputId": "11a1858b-3cfe-462c-bc32-3c366337473e"
      },
      "execution_count": null,
      "outputs": [
        {
          "output_type": "execute_result",
          "data": {
            "text/plain": [
              "<bound method NDFrame.head of        0   tcp   private   REJ    0.1    0.2  0.3  0.4  0.5  0.6  ...  0.04.1  \\\n",
              "0      0   tcp   private   REJ      0      0    0    0    0    0  ...    0.00   \n",
              "1      2   tcp  ftp_data    SF  12983      0    0    0    0    0  ...    0.61   \n",
              "2      0  icmp     eco_i    SF     20      0    0    0    0    0  ...    1.00   \n",
              "3      1   tcp    telnet  RSTO      0     15    0    0    0    0  ...    0.31   \n",
              "4      0   tcp      http    SF    267  14515    0    0    0    0  ...    1.00   \n",
              "...   ..   ...       ...   ...    ...    ...  ...  ...  ...  ...  ...     ...   \n",
              "22538  0   tcp      smtp    SF    794    333    0    0    0    0  ...    0.72   \n",
              "22539  0   tcp      http    SF    317    938    0    0    0    0  ...    1.00   \n",
              "22540  0   tcp      http    SF  54540   8314    0    0    0    2  ...    1.00   \n",
              "22541  0   udp  domain_u    SF     42     42    0    0    0    0  ...    0.99   \n",
              "22542  0   tcp    sunrpc   REJ      0      0    0    0    0    0  ...    0.08   \n",
              "\n",
              "       0.06.1  0.00.3  0.00.4  0.00.5  0.00.6  1.00.2  1.00.3  neptune  21  \n",
              "0        0.06    0.00    0.00    0.00     0.0    1.00    1.00  neptune  21  \n",
              "1        0.04    0.61    0.02    0.00     0.0    0.00    0.00   normal  21  \n",
              "2        0.00    1.00    0.28    0.00     0.0    0.00    0.00    saint  15  \n",
              "3        0.17    0.03    0.02    0.00     0.0    0.83    0.71    mscan  11  \n",
              "4        0.00    0.01    0.03    0.01     0.0    0.00    0.00   normal  21  \n",
              "...       ...     ...     ...     ...     ...     ...     ...      ...  ..  \n",
              "22538    0.06    0.01    0.01    0.01     0.0    0.00    0.00   normal  21  \n",
              "22539    0.00    0.01    0.01    0.01     0.0    0.00    0.00   normal  21  \n",
              "22540    0.00    0.00    0.00    0.00     0.0    0.07    0.07     back  15  \n",
              "22541    0.01    0.00    0.00    0.00     0.0    0.00    0.00   normal  21  \n",
              "22542    0.03    0.00    0.00    0.00     0.0    0.44    1.00    mscan  14  \n",
              "\n",
              "[22543 rows x 43 columns]>"
            ]
          },
          "metadata": {},
          "execution_count": 18
        }
      ]
    },
    {
      "cell_type": "code",
      "source": [
        "data=pd.read_csv('/content/drive/MyDrive/data/KDDTest+.txt')"
      ],
      "metadata": {
        "id": "N-ni0BypYQ7B"
      },
      "execution_count": null,
      "outputs": []
    },
    {
      "cell_type": "code",
      "source": [
        "data.head\n"
      ],
      "metadata": {
        "colab": {
          "base_uri": "https://localhost:8080/"
        },
        "id": "roRR1YAhYh5Q",
        "outputId": "a6d8b35a-29db-4d3d-bb77-3cf4856004ce"
      },
      "execution_count": null,
      "outputs": [
        {
          "output_type": "execute_result",
          "data": {
            "text/plain": [
              "<bound method NDFrame.head of        0   tcp   private   REJ    0.1    0.2  0.3  0.4  0.5  0.6  ...  0.04.1  \\\n",
              "0      0   tcp   private   REJ      0      0    0    0    0    0  ...    0.00   \n",
              "1      2   tcp  ftp_data    SF  12983      0    0    0    0    0  ...    0.61   \n",
              "2      0  icmp     eco_i    SF     20      0    0    0    0    0  ...    1.00   \n",
              "3      1   tcp    telnet  RSTO      0     15    0    0    0    0  ...    0.31   \n",
              "4      0   tcp      http    SF    267  14515    0    0    0    0  ...    1.00   \n",
              "...   ..   ...       ...   ...    ...    ...  ...  ...  ...  ...  ...     ...   \n",
              "22538  0   tcp      smtp    SF    794    333    0    0    0    0  ...    0.72   \n",
              "22539  0   tcp      http    SF    317    938    0    0    0    0  ...    1.00   \n",
              "22540  0   tcp      http    SF  54540   8314    0    0    0    2  ...    1.00   \n",
              "22541  0   udp  domain_u    SF     42     42    0    0    0    0  ...    0.99   \n",
              "22542  0   tcp    sunrpc   REJ      0      0    0    0    0    0  ...    0.08   \n",
              "\n",
              "       0.06.1  0.00.3  0.00.4  0.00.5  0.00.6  1.00.2  1.00.3  neptune  21  \n",
              "0        0.06    0.00    0.00    0.00     0.0    1.00    1.00  neptune  21  \n",
              "1        0.04    0.61    0.02    0.00     0.0    0.00    0.00   normal  21  \n",
              "2        0.00    1.00    0.28    0.00     0.0    0.00    0.00    saint  15  \n",
              "3        0.17    0.03    0.02    0.00     0.0    0.83    0.71    mscan  11  \n",
              "4        0.00    0.01    0.03    0.01     0.0    0.00    0.00   normal  21  \n",
              "...       ...     ...     ...     ...     ...     ...     ...      ...  ..  \n",
              "22538    0.06    0.01    0.01    0.01     0.0    0.00    0.00   normal  21  \n",
              "22539    0.00    0.01    0.01    0.01     0.0    0.00    0.00   normal  21  \n",
              "22540    0.00    0.00    0.00    0.00     0.0    0.07    0.07     back  15  \n",
              "22541    0.01    0.00    0.00    0.00     0.0    0.00    0.00   normal  21  \n",
              "22542    0.03    0.00    0.00    0.00     0.0    0.44    1.00    mscan  14  \n",
              "\n",
              "[22543 rows x 43 columns]>"
            ]
          },
          "metadata": {},
          "execution_count": 17
        }
      ]
    },
    {
      "cell_type": "code",
      "source": [
        "data.shape"
      ],
      "metadata": {
        "colab": {
          "base_uri": "https://localhost:8080/"
        },
        "id": "-Bev_vSvY2Ll",
        "outputId": "25df46e1-cf08-40fa-f678-37805be92276"
      },
      "execution_count": null,
      "outputs": [
        {
          "output_type": "execute_result",
          "data": {
            "text/plain": [
              "(22543, 43)"
            ]
          },
          "metadata": {},
          "execution_count": 19
        }
      ]
    },
    {
      "cell_type": "code",
      "source": [
        "print('hello world')"
      ],
      "metadata": {
        "id": "-8bDBuj6GfV-"
      },
      "execution_count": null,
      "outputs": []
    },
    {
      "cell_type": "markdown",
      "source": [
        "# Nouvelle section"
      ],
      "metadata": {
        "id": "FyBR4o-d8yFD"
      }
    }
  ],
  "metadata": {
    "colab": {
      "name": "CNN-LSTM.ipynb",
      "provenance": [],
      "toc_visible": true,
      "authorship_tag": "ABX9TyM2HmSSI+ey2M6bFiqNXYMk",
      "include_colab_link": true
    },
    "kernelspec": {
      "display_name": "Python 3",
      "name": "python3"
    },
    "language_info": {
      "name": "python"
    }
  },
  "nbformat": 4,
  "nbformat_minor": 0
}