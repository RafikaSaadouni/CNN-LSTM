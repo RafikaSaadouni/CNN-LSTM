{
  "cells": [
    {
      "cell_type": "markdown",
      "metadata": {
        "id": "view-in-github",
        "colab_type": "text"
      },
      "source": [
        "<a href=\"https://colab.research.google.com/github/RafikaSaadouni/CNN-LSTM/blob/main/LSTM.ipynb\" target=\"_parent\"><img src=\"https://colab.research.google.com/assets/colab-badge.svg\" alt=\"Open In Colab\"/></a>"
      ]
    },
    {
      "cell_type": "markdown",
      "source": [
        "** Etablir une connexion avec google Drive  pour Charger dataset**"
      ],
      "metadata": {
        "id": "Ez1iLUgTsDpR"
      }
    },
    {
      "cell_type": "code",
      "execution_count": 1,
      "metadata": {
        "id": "zhKX_3IC6Xyj",
        "colab": {
          "base_uri": "https://localhost:8080/"
        },
        "outputId": "6e5c51b0-4fd5-4830-ee11-44fb9710d9a2"
      },
      "outputs": [
        {
          "output_type": "stream",
          "name": "stdout",
          "text": [
            "Drive already mounted at /content/drive; to attempt to forcibly remount, call drive.mount(\"/content/drive\", force_remount=True).\n"
          ]
        }
      ],
      "source": [
        "from google.colab import drive\n",
        "drive.mount('/content/drive')"
      ]
    },
    {
      "cell_type": "markdown",
      "source": [
        "**Import**"
      ],
      "metadata": {
        "id": "Tuwqt1g1sVqQ"
      }
    },
    {
      "cell_type": "code",
      "execution_count": 2,
      "metadata": {
        "id": "CvpWaGdx6YUb"
      },
      "outputs": [],
      "source": [
        "#la bibliothèque pandas pour lire la format csv de dataset\n",
        "import pandas as pd\n"
      ]
    },
    {
      "cell_type": "code",
      "execution_count": 3,
      "metadata": {
        "id": "8uxXb9LY6Y5P"
      },
      "outputs": [],
      "source": [
        "from operator import imatmul\n",
        "from keras.models import Sequential\n",
        "from keras.layers import Dense, Dropout, Activation, Flatten\n",
        "from keras.layers import LSTM\n",
        "from sklearn import metrics\n",
        "from keras.utils import np_utils\n",
        "import numpy as np\n",
        "from sklearn.preprocessing import  MinMaxScaler\n",
        "\n",
        "from keras.utils.np_utils import to_categorical\n",
        "from sklearn.preprocessing import Normalizer\n",
        "\n",
        "\n"
      ]
    },
    {
      "cell_type": "code",
      "execution_count": 4,
      "metadata": {
        "id": "KoX5FWwsX4Rw"
      },
      "outputs": [],
      "source": [
        "#les noms des colonne de dataset\n",
        "featureV=[\"duration\",\"protocol_type\",\"service\",\"flag\",\"src_bytes\",\"dst_bytes\",\"land\",\"wrong_fragment\",\"urgent\",\"hot\",\n",
        "          \"num_failed_logins\",\"logged_in\",\"num_compromised\",\"root_shell\",\"su_attempted\",\"num_root\",\"num_file_creations\",\"num_shells\",\n",
        "          \"num_access_files\",\"num_outbound_cmds\",\"is_host_login\",\"is_guest_login\",\"count\",\"srv_count\",\"serror_rate\",\"srv_serror_rate\",\n",
        "          \"rerror_rate\",\"srv_rerror_rate\",\"same_srv_rate\",\"diff_srv_rate\",\"srv_diff_host_rate\",\"dst_host_count\",\"dst_host_srv_count\", \n",
        "          \"dst_host_same_srv_rate\",\"dst_host_diff_srv_rate\",\"dst_host_same_src_port_rate\",\"dst_host_srv_diff_host_rate\",\"dst_host_serror_rate\",\n",
        "          \"dst_host_srv_serror_rate\",\"dst_host_rerror_rate\",\"dst_host_srv_rerror_rate\",\"label\",\"difficulty\"]\n",
        "#la colonne flag qui contient des valeur string\n",
        "flagV=['OTH','RSTOS0','SF','SH','RSTO','S2','S1','REJ','S3','RSTR','S0']\n",
        "\n",
        "#la colonne protocol_type qui contient des valeur string\n",
        "protocol_typeV=['tcp','udp','icmp']\n",
        "#la colonne service qui contient des valeur string\n",
        "serviceV=['http','smtp','finger','domain_u','auth','telnet','ftp','eco_i','ntp_u','ecr_i','other','private','pop_3','ftp_data',\n",
        "                  'rje','time','mtp','link','remote_job','gopher','ssh','name','whois','domain','login','imap4','daytime','ctf','nntp',\n",
        "                  'shell','IRC','nnsp','http_443','exec','printer','efs','courier','uucp','klogin','kshell','echo','discard','systat',\n",
        "                  'supdup','iso_tsap','hostnames','csnet_ns','pop_2','sunrpc','uucp_path','netbios_ns','netbios_ssn','netbios_dgm',\n",
        "                  'sql_net','vmnet','bgp','Z39_50','ldap','netstat','urh_i','X11','urp_i','pm_dump','tftp_u','tim_i','red_i','icmp',\n",
        "                  'http_2784','harvest','aol','http_8001']\n",
        "# les étiquète \n",
        "binary_attack=['normal','ipsweep', 'nmap', 'portsweep','satan', 'saint', 'mscan','back', 'land', 'neptune', 'pod', 'smurf',\n",
        "               'teardrop', 'apache2', 'udpstorm', 'processtable','mailbomb','buffer_overflow', 'loadmodule', 'perl', 'rootkit',\n",
        "               'xterm', 'ps', 'sqlattack','ftp_write', 'guess_passwd', 'imap', 'multihop','phf', 'spy', 'warezclient',\n",
        "               'warezmaster','snmpgetattack','named', 'xlock', 'xsnoop','sendmail', 'httptunnel', 'worm', 'snmpguess']\n",
        "\n",
        "multiclass_attack={ 'normal': 'normal',\n",
        "        'probe': ['ipsweep.', 'nmap.', 'portsweep.','satan.', 'saint.', 'mscan.'],\n",
        "        'dos': ['back.', 'land.', 'neptune.', 'pod.', 'smurf.','teardrop.', 'apache2.', 'udpstorm.', 'processtable.','mailbomb.'],\n",
        "        'u2r': ['buffer_overflow.', 'loadmodule.', 'perl.', 'rootkit.','xterm.', 'ps.', 'sqlattack.'],\n",
        "        'r2l': ['ftp_write.', 'guess_passwd.', 'imap.', 'multihop.','phf.', 'spy.', 'warezclient.', 'warezmaster.','snmpgetattack.',\n",
        "                   'named.', 'xlock.', 'xsnoop.','sendmail.', 'httptunnel.', 'worm.', 'snmpguess.']}  "
      ]
    },
    {
      "cell_type": "markdown",
      "source": [
        "**Télechargement de dataset****"
      ],
      "metadata": {
        "id": "PdCkDUrEsqrS"
      }
    },
    {
      "cell_type": "code",
      "execution_count": 5,
      "metadata": {
        "id": "5TwODoEAqTCP",
        "colab": {
          "base_uri": "https://localhost:8080/",
          "height": 488
        },
        "outputId": "4d6f21e6-c601-4380-ba68-59fa05ae333b"
      },
      "outputs": [
        {
          "output_type": "execute_result",
          "data": {
            "text/plain": [
              "        duration protocol_type   service flag  src_bytes  dst_bytes  land  \\\n",
              "0              0           tcp  ftp_data   SF        491          0     0   \n",
              "1              0           udp     other   SF        146          0     0   \n",
              "2              0           tcp   private   S0          0          0     0   \n",
              "3              0           tcp      http   SF        232       8153     0   \n",
              "4              0           tcp      http   SF        199        420     0   \n",
              "...          ...           ...       ...  ...        ...        ...   ...   \n",
              "125968         0           tcp   private   S0          0          0     0   \n",
              "125969         8           udp   private   SF        105        145     0   \n",
              "125970         0           tcp      smtp   SF       2231        384     0   \n",
              "125971         0           tcp    klogin   S0          0          0     0   \n",
              "125972         0           tcp  ftp_data   SF        151          0     0   \n",
              "\n",
              "        wrong_fragment  urgent  hot  ...  dst_host_same_srv_rate  \\\n",
              "0                    0       0    0  ...                    0.17   \n",
              "1                    0       0    0  ...                    0.00   \n",
              "2                    0       0    0  ...                    0.10   \n",
              "3                    0       0    0  ...                    1.00   \n",
              "4                    0       0    0  ...                    1.00   \n",
              "...                ...     ...  ...  ...                     ...   \n",
              "125968               0       0    0  ...                    0.10   \n",
              "125969               0       0    0  ...                    0.96   \n",
              "125970               0       0    0  ...                    0.12   \n",
              "125971               0       0    0  ...                    0.03   \n",
              "125972               0       0    0  ...                    0.30   \n",
              "\n",
              "        dst_host_diff_srv_rate  dst_host_same_src_port_rate  \\\n",
              "0                         0.03                         0.17   \n",
              "1                         0.60                         0.88   \n",
              "2                         0.05                         0.00   \n",
              "3                         0.00                         0.03   \n",
              "4                         0.00                         0.00   \n",
              "...                        ...                          ...   \n",
              "125968                    0.06                         0.00   \n",
              "125969                    0.01                         0.01   \n",
              "125970                    0.06                         0.00   \n",
              "125971                    0.05                         0.00   \n",
              "125972                    0.03                         0.30   \n",
              "\n",
              "        dst_host_srv_diff_host_rate  dst_host_serror_rate  \\\n",
              "0                              0.00                  0.00   \n",
              "1                              0.00                  0.00   \n",
              "2                              0.00                  1.00   \n",
              "3                              0.04                  0.03   \n",
              "4                              0.00                  0.00   \n",
              "...                             ...                   ...   \n",
              "125968                         0.00                  1.00   \n",
              "125969                         0.00                  0.00   \n",
              "125970                         0.00                  0.72   \n",
              "125971                         0.00                  1.00   \n",
              "125972                         0.00                  0.00   \n",
              "\n",
              "        dst_host_srv_serror_rate  dst_host_rerror_rate  \\\n",
              "0                           0.00                  0.05   \n",
              "1                           0.00                  0.00   \n",
              "2                           1.00                  0.00   \n",
              "3                           0.01                  0.00   \n",
              "4                           0.00                  0.00   \n",
              "...                          ...                   ...   \n",
              "125968                      1.00                  0.00   \n",
              "125969                      0.00                  0.00   \n",
              "125970                      0.00                  0.01   \n",
              "125971                      1.00                  0.00   \n",
              "125972                      0.00                  0.00   \n",
              "\n",
              "        dst_host_srv_rerror_rate    label  difficulty  \n",
              "0                           0.00   normal          20  \n",
              "1                           0.00   normal          15  \n",
              "2                           0.00  neptune          19  \n",
              "3                           0.01   normal          21  \n",
              "4                           0.00   normal          21  \n",
              "...                          ...      ...         ...  \n",
              "125968                      0.00  neptune          20  \n",
              "125969                      0.00   normal          21  \n",
              "125970                      0.00   normal          18  \n",
              "125971                      0.00  neptune          20  \n",
              "125972                      0.00   normal          21  \n",
              "\n",
              "[125973 rows x 43 columns]"
            ],
            "text/html": [
              "\n",
              "  <div id=\"df-fa9baae0-98a8-4d92-b3fe-d348c381cea8\">\n",
              "    <div class=\"colab-df-container\">\n",
              "      <div>\n",
              "<style scoped>\n",
              "    .dataframe tbody tr th:only-of-type {\n",
              "        vertical-align: middle;\n",
              "    }\n",
              "\n",
              "    .dataframe tbody tr th {\n",
              "        vertical-align: top;\n",
              "    }\n",
              "\n",
              "    .dataframe thead th {\n",
              "        text-align: right;\n",
              "    }\n",
              "</style>\n",
              "<table border=\"1\" class=\"dataframe\">\n",
              "  <thead>\n",
              "    <tr style=\"text-align: right;\">\n",
              "      <th></th>\n",
              "      <th>duration</th>\n",
              "      <th>protocol_type</th>\n",
              "      <th>service</th>\n",
              "      <th>flag</th>\n",
              "      <th>src_bytes</th>\n",
              "      <th>dst_bytes</th>\n",
              "      <th>land</th>\n",
              "      <th>wrong_fragment</th>\n",
              "      <th>urgent</th>\n",
              "      <th>hot</th>\n",
              "      <th>...</th>\n",
              "      <th>dst_host_same_srv_rate</th>\n",
              "      <th>dst_host_diff_srv_rate</th>\n",
              "      <th>dst_host_same_src_port_rate</th>\n",
              "      <th>dst_host_srv_diff_host_rate</th>\n",
              "      <th>dst_host_serror_rate</th>\n",
              "      <th>dst_host_srv_serror_rate</th>\n",
              "      <th>dst_host_rerror_rate</th>\n",
              "      <th>dst_host_srv_rerror_rate</th>\n",
              "      <th>label</th>\n",
              "      <th>difficulty</th>\n",
              "    </tr>\n",
              "  </thead>\n",
              "  <tbody>\n",
              "    <tr>\n",
              "      <th>0</th>\n",
              "      <td>0</td>\n",
              "      <td>tcp</td>\n",
              "      <td>ftp_data</td>\n",
              "      <td>SF</td>\n",
              "      <td>491</td>\n",
              "      <td>0</td>\n",
              "      <td>0</td>\n",
              "      <td>0</td>\n",
              "      <td>0</td>\n",
              "      <td>0</td>\n",
              "      <td>...</td>\n",
              "      <td>0.17</td>\n",
              "      <td>0.03</td>\n",
              "      <td>0.17</td>\n",
              "      <td>0.00</td>\n",
              "      <td>0.00</td>\n",
              "      <td>0.00</td>\n",
              "      <td>0.05</td>\n",
              "      <td>0.00</td>\n",
              "      <td>normal</td>\n",
              "      <td>20</td>\n",
              "    </tr>\n",
              "    <tr>\n",
              "      <th>1</th>\n",
              "      <td>0</td>\n",
              "      <td>udp</td>\n",
              "      <td>other</td>\n",
              "      <td>SF</td>\n",
              "      <td>146</td>\n",
              "      <td>0</td>\n",
              "      <td>0</td>\n",
              "      <td>0</td>\n",
              "      <td>0</td>\n",
              "      <td>0</td>\n",
              "      <td>...</td>\n",
              "      <td>0.00</td>\n",
              "      <td>0.60</td>\n",
              "      <td>0.88</td>\n",
              "      <td>0.00</td>\n",
              "      <td>0.00</td>\n",
              "      <td>0.00</td>\n",
              "      <td>0.00</td>\n",
              "      <td>0.00</td>\n",
              "      <td>normal</td>\n",
              "      <td>15</td>\n",
              "    </tr>\n",
              "    <tr>\n",
              "      <th>2</th>\n",
              "      <td>0</td>\n",
              "      <td>tcp</td>\n",
              "      <td>private</td>\n",
              "      <td>S0</td>\n",
              "      <td>0</td>\n",
              "      <td>0</td>\n",
              "      <td>0</td>\n",
              "      <td>0</td>\n",
              "      <td>0</td>\n",
              "      <td>0</td>\n",
              "      <td>...</td>\n",
              "      <td>0.10</td>\n",
              "      <td>0.05</td>\n",
              "      <td>0.00</td>\n",
              "      <td>0.00</td>\n",
              "      <td>1.00</td>\n",
              "      <td>1.00</td>\n",
              "      <td>0.00</td>\n",
              "      <td>0.00</td>\n",
              "      <td>neptune</td>\n",
              "      <td>19</td>\n",
              "    </tr>\n",
              "    <tr>\n",
              "      <th>3</th>\n",
              "      <td>0</td>\n",
              "      <td>tcp</td>\n",
              "      <td>http</td>\n",
              "      <td>SF</td>\n",
              "      <td>232</td>\n",
              "      <td>8153</td>\n",
              "      <td>0</td>\n",
              "      <td>0</td>\n",
              "      <td>0</td>\n",
              "      <td>0</td>\n",
              "      <td>...</td>\n",
              "      <td>1.00</td>\n",
              "      <td>0.00</td>\n",
              "      <td>0.03</td>\n",
              "      <td>0.04</td>\n",
              "      <td>0.03</td>\n",
              "      <td>0.01</td>\n",
              "      <td>0.00</td>\n",
              "      <td>0.01</td>\n",
              "      <td>normal</td>\n",
              "      <td>21</td>\n",
              "    </tr>\n",
              "    <tr>\n",
              "      <th>4</th>\n",
              "      <td>0</td>\n",
              "      <td>tcp</td>\n",
              "      <td>http</td>\n",
              "      <td>SF</td>\n",
              "      <td>199</td>\n",
              "      <td>420</td>\n",
              "      <td>0</td>\n",
              "      <td>0</td>\n",
              "      <td>0</td>\n",
              "      <td>0</td>\n",
              "      <td>...</td>\n",
              "      <td>1.00</td>\n",
              "      <td>0.00</td>\n",
              "      <td>0.00</td>\n",
              "      <td>0.00</td>\n",
              "      <td>0.00</td>\n",
              "      <td>0.00</td>\n",
              "      <td>0.00</td>\n",
              "      <td>0.00</td>\n",
              "      <td>normal</td>\n",
              "      <td>21</td>\n",
              "    </tr>\n",
              "    <tr>\n",
              "      <th>...</th>\n",
              "      <td>...</td>\n",
              "      <td>...</td>\n",
              "      <td>...</td>\n",
              "      <td>...</td>\n",
              "      <td>...</td>\n",
              "      <td>...</td>\n",
              "      <td>...</td>\n",
              "      <td>...</td>\n",
              "      <td>...</td>\n",
              "      <td>...</td>\n",
              "      <td>...</td>\n",
              "      <td>...</td>\n",
              "      <td>...</td>\n",
              "      <td>...</td>\n",
              "      <td>...</td>\n",
              "      <td>...</td>\n",
              "      <td>...</td>\n",
              "      <td>...</td>\n",
              "      <td>...</td>\n",
              "      <td>...</td>\n",
              "      <td>...</td>\n",
              "    </tr>\n",
              "    <tr>\n",
              "      <th>125968</th>\n",
              "      <td>0</td>\n",
              "      <td>tcp</td>\n",
              "      <td>private</td>\n",
              "      <td>S0</td>\n",
              "      <td>0</td>\n",
              "      <td>0</td>\n",
              "      <td>0</td>\n",
              "      <td>0</td>\n",
              "      <td>0</td>\n",
              "      <td>0</td>\n",
              "      <td>...</td>\n",
              "      <td>0.10</td>\n",
              "      <td>0.06</td>\n",
              "      <td>0.00</td>\n",
              "      <td>0.00</td>\n",
              "      <td>1.00</td>\n",
              "      <td>1.00</td>\n",
              "      <td>0.00</td>\n",
              "      <td>0.00</td>\n",
              "      <td>neptune</td>\n",
              "      <td>20</td>\n",
              "    </tr>\n",
              "    <tr>\n",
              "      <th>125969</th>\n",
              "      <td>8</td>\n",
              "      <td>udp</td>\n",
              "      <td>private</td>\n",
              "      <td>SF</td>\n",
              "      <td>105</td>\n",
              "      <td>145</td>\n",
              "      <td>0</td>\n",
              "      <td>0</td>\n",
              "      <td>0</td>\n",
              "      <td>0</td>\n",
              "      <td>...</td>\n",
              "      <td>0.96</td>\n",
              "      <td>0.01</td>\n",
              "      <td>0.01</td>\n",
              "      <td>0.00</td>\n",
              "      <td>0.00</td>\n",
              "      <td>0.00</td>\n",
              "      <td>0.00</td>\n",
              "      <td>0.00</td>\n",
              "      <td>normal</td>\n",
              "      <td>21</td>\n",
              "    </tr>\n",
              "    <tr>\n",
              "      <th>125970</th>\n",
              "      <td>0</td>\n",
              "      <td>tcp</td>\n",
              "      <td>smtp</td>\n",
              "      <td>SF</td>\n",
              "      <td>2231</td>\n",
              "      <td>384</td>\n",
              "      <td>0</td>\n",
              "      <td>0</td>\n",
              "      <td>0</td>\n",
              "      <td>0</td>\n",
              "      <td>...</td>\n",
              "      <td>0.12</td>\n",
              "      <td>0.06</td>\n",
              "      <td>0.00</td>\n",
              "      <td>0.00</td>\n",
              "      <td>0.72</td>\n",
              "      <td>0.00</td>\n",
              "      <td>0.01</td>\n",
              "      <td>0.00</td>\n",
              "      <td>normal</td>\n",
              "      <td>18</td>\n",
              "    </tr>\n",
              "    <tr>\n",
              "      <th>125971</th>\n",
              "      <td>0</td>\n",
              "      <td>tcp</td>\n",
              "      <td>klogin</td>\n",
              "      <td>S0</td>\n",
              "      <td>0</td>\n",
              "      <td>0</td>\n",
              "      <td>0</td>\n",
              "      <td>0</td>\n",
              "      <td>0</td>\n",
              "      <td>0</td>\n",
              "      <td>...</td>\n",
              "      <td>0.03</td>\n",
              "      <td>0.05</td>\n",
              "      <td>0.00</td>\n",
              "      <td>0.00</td>\n",
              "      <td>1.00</td>\n",
              "      <td>1.00</td>\n",
              "      <td>0.00</td>\n",
              "      <td>0.00</td>\n",
              "      <td>neptune</td>\n",
              "      <td>20</td>\n",
              "    </tr>\n",
              "    <tr>\n",
              "      <th>125972</th>\n",
              "      <td>0</td>\n",
              "      <td>tcp</td>\n",
              "      <td>ftp_data</td>\n",
              "      <td>SF</td>\n",
              "      <td>151</td>\n",
              "      <td>0</td>\n",
              "      <td>0</td>\n",
              "      <td>0</td>\n",
              "      <td>0</td>\n",
              "      <td>0</td>\n",
              "      <td>...</td>\n",
              "      <td>0.30</td>\n",
              "      <td>0.03</td>\n",
              "      <td>0.30</td>\n",
              "      <td>0.00</td>\n",
              "      <td>0.00</td>\n",
              "      <td>0.00</td>\n",
              "      <td>0.00</td>\n",
              "      <td>0.00</td>\n",
              "      <td>normal</td>\n",
              "      <td>21</td>\n",
              "    </tr>\n",
              "  </tbody>\n",
              "</table>\n",
              "<p>125973 rows × 43 columns</p>\n",
              "</div>\n",
              "      <button class=\"colab-df-convert\" onclick=\"convertToInteractive('df-fa9baae0-98a8-4d92-b3fe-d348c381cea8')\"\n",
              "              title=\"Convert this dataframe to an interactive table.\"\n",
              "              style=\"display:none;\">\n",
              "        \n",
              "  <svg xmlns=\"http://www.w3.org/2000/svg\" height=\"24px\"viewBox=\"0 0 24 24\"\n",
              "       width=\"24px\">\n",
              "    <path d=\"M0 0h24v24H0V0z\" fill=\"none\"/>\n",
              "    <path d=\"M18.56 5.44l.94 2.06.94-2.06 2.06-.94-2.06-.94-.94-2.06-.94 2.06-2.06.94zm-11 1L8.5 8.5l.94-2.06 2.06-.94-2.06-.94L8.5 2.5l-.94 2.06-2.06.94zm10 10l.94 2.06.94-2.06 2.06-.94-2.06-.94-.94-2.06-.94 2.06-2.06.94z\"/><path d=\"M17.41 7.96l-1.37-1.37c-.4-.4-.92-.59-1.43-.59-.52 0-1.04.2-1.43.59L10.3 9.45l-7.72 7.72c-.78.78-.78 2.05 0 2.83L4 21.41c.39.39.9.59 1.41.59.51 0 1.02-.2 1.41-.59l7.78-7.78 2.81-2.81c.8-.78.8-2.07 0-2.86zM5.41 20L4 18.59l7.72-7.72 1.47 1.35L5.41 20z\"/>\n",
              "  </svg>\n",
              "      </button>\n",
              "      \n",
              "  <style>\n",
              "    .colab-df-container {\n",
              "      display:flex;\n",
              "      flex-wrap:wrap;\n",
              "      gap: 12px;\n",
              "    }\n",
              "\n",
              "    .colab-df-convert {\n",
              "      background-color: #E8F0FE;\n",
              "      border: none;\n",
              "      border-radius: 50%;\n",
              "      cursor: pointer;\n",
              "      display: none;\n",
              "      fill: #1967D2;\n",
              "      height: 32px;\n",
              "      padding: 0 0 0 0;\n",
              "      width: 32px;\n",
              "    }\n",
              "\n",
              "    .colab-df-convert:hover {\n",
              "      background-color: #E2EBFA;\n",
              "      box-shadow: 0px 1px 2px rgba(60, 64, 67, 0.3), 0px 1px 3px 1px rgba(60, 64, 67, 0.15);\n",
              "      fill: #174EA6;\n",
              "    }\n",
              "\n",
              "    [theme=dark] .colab-df-convert {\n",
              "      background-color: #3B4455;\n",
              "      fill: #D2E3FC;\n",
              "    }\n",
              "\n",
              "    [theme=dark] .colab-df-convert:hover {\n",
              "      background-color: #434B5C;\n",
              "      box-shadow: 0px 1px 3px 1px rgba(0, 0, 0, 0.15);\n",
              "      filter: drop-shadow(0px 1px 2px rgba(0, 0, 0, 0.3));\n",
              "      fill: #FFFFFF;\n",
              "    }\n",
              "  </style>\n",
              "\n",
              "      <script>\n",
              "        const buttonEl =\n",
              "          document.querySelector('#df-fa9baae0-98a8-4d92-b3fe-d348c381cea8 button.colab-df-convert');\n",
              "        buttonEl.style.display =\n",
              "          google.colab.kernel.accessAllowed ? 'block' : 'none';\n",
              "\n",
              "        async function convertToInteractive(key) {\n",
              "          const element = document.querySelector('#df-fa9baae0-98a8-4d92-b3fe-d348c381cea8');\n",
              "          const dataTable =\n",
              "            await google.colab.kernel.invokeFunction('convertToInteractive',\n",
              "                                                     [key], {});\n",
              "          if (!dataTable) return;\n",
              "\n",
              "          const docLinkHtml = 'Like what you see? Visit the ' +\n",
              "            '<a target=\"_blank\" href=https://colab.research.google.com/notebooks/data_table.ipynb>data table notebook</a>'\n",
              "            + ' to learn more about interactive tables.';\n",
              "          element.innerHTML = '';\n",
              "          dataTable['output_type'] = 'display_data';\n",
              "          await google.colab.output.renderOutput(dataTable, element);\n",
              "          const docLink = document.createElement('div');\n",
              "          docLink.innerHTML = docLinkHtml;\n",
              "          element.appendChild(docLink);\n",
              "        }\n",
              "      </script>\n",
              "    </div>\n",
              "  </div>\n",
              "  "
            ]
          },
          "metadata": {},
          "execution_count": 5
        }
      ],
      "source": [
        "data_train=pd.read_csv('/content/drive/MyDrive/data/nsl-kdd/KDDTrain+.txt', names=featureV)\n",
        "data_test=pd.read_csv('/content/drive/MyDrive/data/nsl-kdd/KDDTest+.txt' , names=featureV)\n",
        "data_train"
      ]
    },
    {
      "cell_type": "code",
      "execution_count": 6,
      "metadata": {
        "id": "q049OyjBHjtv"
      },
      "outputs": [],
      "source": [
        "data_train = data_train.query(\"service != 'aol'\")\n",
        "data_train = data_train.query(\"service != 'harvest'\")\n",
        "data_train = data_train.query(\"service != 'http_2784'\")\n",
        "data_train = data_train.query(\"service != 'http_8001'\")\n",
        "data_train = data_train.query(\"service != 'red_i'\")\n",
        "data_train = data_train.query(\"service != 'urh_i'\")\n",
        "data_train = data_train.query(\"service != 'printer'\")\n",
        "data_train = data_train.query(\"service != 'rje'\")\n",
        "#-------------------------------------------------------------------------------->>>>\n",
        "data_test = data_test.query(\"service != 'printer'\")\n",
        "data_test = data_test.query(\"service != 'rje'\")\n",
        "\n"
      ]
    },
    {
      "cell_type": "markdown",
      "source": [
        "**Numérisation  et normalisation**"
      ],
      "metadata": {
        "id": "Xs3naFYGBm0J"
      }
    },
    {
      "cell_type": "code",
      "execution_count": 7,
      "metadata": {
        "id": "XaRX3ZfD1u_0"
      },
      "outputs": [],
      "source": [
        "\n",
        "\n",
        "def preprocessing(data,cls,df):\n",
        "  data['label']=data['label'].replace(['normal.','normal'],0)\n",
        "  #----------------------classification binaire---------------------\n",
        "  if cls=='binary':\n",
        "    for i in range(len(binary_attack)):\n",
        "      data['label'] = data['label'].replace(binary_attack[i], 1)\n",
        "      #----------------------fractionnement des labels--------------------- \n",
        "  y=data['label']\n",
        "  x=data.loc[:,'duration':'hot']\n",
        "  # copie la colunne du protocole dans tompon\n",
        "  t=x.protocol_type.copy()\n",
        "  #convertir en binaire\n",
        "  t=pd.get_dummies(t)\n",
        "  #supprimer tout la colunne de protocole_type\n",
        "  x=x.drop(columns='protocol_type',axis=1)\n",
        "  #ajouter la column\n",
        "  x=x.join(t)\n",
        "# copie la colonne du service dans tompon\n",
        "  t1=x.service.copy()\n",
        "   #convertir en binaire\n",
        "  t1=pd.get_dummies(t1)\n",
        "  #supprimer tout la colunne de service\n",
        "  x=x.drop(columns='service',axis=1)\n",
        "   #ajouter la colonne\n",
        "  x=x.join(t1)\n",
        "# copie la colonne du service dans tompon\n",
        "  t2=x.flag.copy()\n",
        "  #convertir en binaire\n",
        "  t2=pd.get_dummies(t2)\n",
        "   #supprimer tout la colunne de flag\n",
        "  x=x.drop(columns='flag',axis=1)\n",
        "  #ajouter la colonne\n",
        "  x=x.join(t2)\n",
        "  #copie label dans yt\n",
        "  yt=y.copy()\n",
        "  #convertir en binaire\n",
        "  yt=pd.get_dummies(yt)\n",
        "  x = MinMaxScaler(feature_range=(0, 1)).fit_transform(x)\n",
        "  return x,yt\n",
        "  "
      ]
    },
    {
      "cell_type": "code",
      "execution_count": 8,
      "metadata": {
        "id": "eN1uwLAb5n3F"
      },
      "outputs": [],
      "source": [
        "#Exécution de la fontion précédente\n",
        "x_train,y_train=preprocessing(data_train,cls='binary',df='train')\n",
        "x_test,y_test=preprocessing(data_test,cls='binary',df='test')"
      ]
    },
    {
      "cell_type": "code",
      "execution_count": 9,
      "metadata": {
        "id": "TTtJqeHJ6i3L",
        "colab": {
          "base_uri": "https://localhost:8080/"
        },
        "outputId": "3acc4ade-6b88-4e28-b6de-c1c706e0d673"
      },
      "outputs": [
        {
          "output_type": "execute_result",
          "data": {
            "text/plain": [
              "(125793, 83, 1)"
            ]
          },
          "metadata": {},
          "execution_count": 9
        }
      ],
      "source": [
        "x_train = np.reshape(x_train, (x_train.shape[0], x_train.shape[1], 1))\n",
        "x_train.shape\n"
      ]
    },
    {
      "cell_type": "code",
      "execution_count": 10,
      "metadata": {
        "id": "se4N-NzB6p_e",
        "colab": {
          "base_uri": "https://localhost:8080/"
        },
        "outputId": "c1fd306e-6aeb-44ee-dd48-5600bc73a6db"
      },
      "outputs": [
        {
          "output_type": "execute_result",
          "data": {
            "text/plain": [
              "(22525, 83, 1)"
            ]
          },
          "metadata": {},
          "execution_count": 10
        }
      ],
      "source": [
        "x_test = np.reshape(x_test, (x_test.shape[0], x_test.shape[1], 1))\n",
        "x_test.shape"
      ]
    },
    {
      "cell_type": "markdown",
      "source": [
        "**Définition de modèle**"
      ],
      "metadata": {
        "id": "OOQyyM6hC_4f"
      }
    },
    {
      "cell_type": "code",
      "execution_count": 11,
      "metadata": {
        "id": "0UfnJehKCatd",
        "colab": {
          "base_uri": "https://localhost:8080/"
        },
        "outputId": "eea8add9-4195-4469-b5de-2461f02b841d"
      },
      "outputs": [
        {
          "output_type": "stream",
          "name": "stdout",
          "text": [
            "WARNING:tensorflow:Layer lstm will not use cuDNN kernels since it doesn't meet the criteria. It will use a generic GPU kernel as fallback when running on GPU.\n"
          ]
        }
      ],
      "source": [
        "\n",
        "model = Sequential()\n",
        "# coche d'entrée avec 51 neurons\n",
        "model.add(LSTM(units=51, return_sequences=True, activation='relu', input_shape=(x_train.shape[1],1)))\n",
        "#couche cachée avec  51 neurons\n",
        "model.add(Dense(units=51,activation='relu'))\n",
        "model.add(Dense(1))\n",
        "#redimensionner \n",
        "model.add(Flatten())\n",
        "model.add(Dropout(0.1))\n",
        "# couche de sortie avec la fonction d'activation sigmoid \n",
        "model.add(Dense(2, activation='sigmoid'))"
      ]
    },
    {
      "cell_type": "markdown",
      "source": [
        "**Résumé de modèle**"
      ],
      "metadata": {
        "id": "D_CTtSUpDJeW"
      }
    },
    {
      "cell_type": "code",
      "execution_count": 12,
      "metadata": {
        "colab": {
          "base_uri": "https://localhost:8080/"
        },
        "id": "5zCiN8SzlmB2",
        "outputId": "191ed5a3-8801-452b-92ac-cba50b1a426a"
      },
      "outputs": [
        {
          "output_type": "stream",
          "name": "stdout",
          "text": [
            "Model: \"sequential\"\n",
            "_________________________________________________________________\n",
            " Layer (type)                Output Shape              Param #   \n",
            "=================================================================\n",
            " lstm (LSTM)                 (None, 83, 51)            10812     \n",
            "                                                                 \n",
            " dense (Dense)               (None, 83, 51)            2652      \n",
            "                                                                 \n",
            " dense_1 (Dense)             (None, 83, 1)             52        \n",
            "                                                                 \n",
            " flatten (Flatten)           (None, 83)                0         \n",
            "                                                                 \n",
            " dropout (Dropout)           (None, 83)                0         \n",
            "                                                                 \n",
            " dense_2 (Dense)             (None, 2)                 168       \n",
            "                                                                 \n",
            "=================================================================\n",
            "Total params: 13,684\n",
            "Trainable params: 13,684\n",
            "Non-trainable params: 0\n",
            "_________________________________________________________________\n"
          ]
        }
      ],
      "source": [
        "# afficher une résumé de model\n",
        "model.summary()"
      ]
    },
    {
      "cell_type": "code",
      "execution_count": 13,
      "metadata": {
        "colab": {
          "base_uri": "https://localhost:8080/"
        },
        "id": "kLSdmToHLTsf",
        "outputId": "d7edda8d-58e9-43e9-f20a-15722ac2f972"
      },
      "outputs": [
        {
          "output_type": "stream",
          "name": "stdout",
          "text": [
            "Epoch 1/10\n",
            "126/126 [==============================] - 42s 284ms/step - loss: 0.5905 - accuracy: 0.6715 - precision: 0.6851 - val_loss: 0.4751 - val_accuracy: 0.7133 - val_precision: 0.7500\n",
            "Epoch 2/10\n",
            "126/126 [==============================] - 31s 244ms/step - loss: 0.2595 - accuracy: 0.9080 - precision: 0.9059 - val_loss: 0.5088 - val_accuracy: 0.8058 - val_precision: 0.7796\n",
            "Epoch 3/10\n",
            "126/126 [==============================] - 32s 250ms/step - loss: 0.1840 - accuracy: 0.9450 - precision: 0.9439 - val_loss: 0.4971 - val_accuracy: 0.8174 - val_precision: 0.8135\n",
            "Epoch 4/10\n",
            "126/126 [==============================] - 29s 234ms/step - loss: 0.1708 - accuracy: 0.9479 - precision: 0.9468 - val_loss: 0.5620 - val_accuracy: 0.8182 - val_precision: 0.8151\n",
            "Epoch 5/10\n",
            "126/126 [==============================] - 30s 239ms/step - loss: 0.7233 - accuracy: 0.9335 - precision: 0.9327 - val_loss: 0.4417 - val_accuracy: 0.7727 - val_precision: 0.7666\n",
            "Epoch 6/10\n",
            "126/126 [==============================] - 30s 235ms/step - loss: 0.1740 - accuracy: 0.9464 - precision: 0.9452 - val_loss: 0.4831 - val_accuracy: 0.8119 - val_precision: 0.8112\n",
            "Epoch 7/10\n",
            "126/126 [==============================] - 29s 232ms/step - loss: 0.1663 - accuracy: 0.9492 - precision: 0.9480 - val_loss: 0.4829 - val_accuracy: 0.8125 - val_precision: 0.8125\n",
            "Epoch 8/10\n",
            "126/126 [==============================] - 29s 234ms/step - loss: 0.1640 - accuracy: 0.9498 - precision: 0.9489 - val_loss: 0.4967 - val_accuracy: 0.8125 - val_precision: 0.8125\n",
            "Epoch 9/10\n",
            "126/126 [==============================] - 29s 234ms/step - loss: 0.1621 - accuracy: 0.9502 - precision: 0.9491 - val_loss: 0.5064 - val_accuracy: 0.8125 - val_precision: 0.8125\n",
            "Epoch 10/10\n",
            "126/126 [==============================] - 29s 230ms/step - loss: 0.1604 - accuracy: 0.9505 - precision: 0.9498 - val_loss: 0.4849 - val_accuracy: 0.8125 - val_precision: 0.8126\n"
          ]
        },
        {
          "output_type": "execute_result",
          "data": {
            "text/plain": [
              "<keras.callbacks.History at 0x7fe4505f6c50>"
            ]
          },
          "metadata": {},
          "execution_count": 13
        }
      ],
      "source": [
        "from tensorflow import keras\n",
        "\n",
        "# defining loss function, optimizer, metrics and then compiling model\n",
        "model.compile(loss='binary_crossentropy',optimizer='adam',metrics=['accuracy',keras.metrics.Precision()])\n",
        "\n",
        "# training the model on training dataset\n",
        "model.fit(x_train, y_train, epochs=10, batch_size=1000,validation_data=(x_test,y_test))\n"
      ]
    },
    {
      "cell_type": "code",
      "source": [
        "keras.utils.plot_model(model, 'modele_LSTM.png', show_shapes=True)"
      ],
      "metadata": {
        "id": "kYbz6i9Vq0K7",
        "colab": {
          "base_uri": "https://localhost:8080/",
          "height": 754
        },
        "outputId": "b2b6713b-6eaf-41ef-ee20-57dc16846298"
      },
      "execution_count": 14,
      "outputs": [
        {
          "output_type": "execute_result",
          "data": {
            "text/plain": [
              "<IPython.core.display.Image object>"
            ],
            "image/png": "[encoded data removed]"
          },
          "metadata": {},
          "execution_count": 14
        }
      ]
    }
  ],
  "metadata": {
    "accelerator": "GPU",
    "colab": {
      "collapsed_sections": [],
      "name": "LSTM.ipynb",
      "provenance": [],
      "include_colab_link": true
    },
    "kernelspec": {
      "display_name": "Python 3",
      "name": "python3"
    },
    "language_info": {
      "name": "python"
    }
  },
  "nbformat": 4,
  "nbformat_minor": 0
}